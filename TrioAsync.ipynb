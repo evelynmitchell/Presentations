{
  "nbformat": 4,
  "nbformat_minor": 0,
  "metadata": {
    "colab": {
      "name": "TrioAsync.ipynb",
      "provenance": [],
      "collapsed_sections": [],
      "toc_visible": true,
      "authorship_tag": "ABX9TyObacHwGG9Zd9qM78trR4/i",
      "include_colab_link": true
    },
    "kernelspec": {
      "name": "python3",
      "display_name": "Python 3"
    },
    "language_info": {
      "name": "python"
    }
  },
  "cells": [
    {
      "cell_type": "markdown",
      "metadata": {
        "id": "view-in-github",
        "colab_type": "text"
      },
      "source": [
        "<a href=\"https://colab.research.google.com/github/evelynmitchell/Presentations/blob/main/TrioAsync.ipynb\" target=\"_parent\"><img src=\"https://colab.research.google.com/assets/colab-badge.svg\" alt=\"Open In Colab\"/></a>"
      ]
    },
    {
      "cell_type": "markdown",
      "metadata": {
        "id": "M3dj1asWKJ4Q"
      },
      "source": [
        "# Trio Easier Async for Python\n",
        "\n",
        "Why? \n",
        "\n",
        "Batteries included.\n",
        "\n",
        "Obvious. All async function are named that way.\n",
        "\n",
        "Tracing, Cancellation, Timeouts, IO handlers, Testing...\n",
        "\n",
        "Scalable.\n",
        "\n",
        "Doesn't do to much. Leaves choices up to callers where appropriate."
      ]
    },
    {
      "cell_type": "markdown",
      "metadata": {
        "id": "K5y1CMxDcori"
      },
      "source": [
        "https://trio.readthedocs.io/en/stable/\n",
        "\n",
        "## Install"
      ]
    },
    {
      "cell_type": "code",
      "metadata": {
        "colab": {
          "base_uri": "https://localhost:8080/"
        },
        "id": "Cw2PcN2ecjhK",
        "outputId": "90e452aa-9bbc-4b89-e203-8283f7ee6cfa"
      },
      "source": [
        "!python3 -m pip install -U trio"
      ],
      "execution_count": 1,
      "outputs": [
        {
          "output_type": "stream",
          "text": [
            "Collecting trio\n",
            "\u001b[?25l  Downloading https://files.pythonhosted.org/packages/35/c3/5a4befc3812b3b606e0ae9338bfdd02da3ad0a90df27dc66c37315e94f5c/trio-0.19.0-py3-none-any.whl (356kB)\n",
            "\u001b[K     |████████████████████████████████| 358kB 5.1MB/s \n",
            "\u001b[?25hRequirement already satisfied, skipping upgrade: async-generator>=1.9 in /usr/local/lib/python3.7/dist-packages (from trio) (1.10)\n",
            "Requirement already satisfied, skipping upgrade: sortedcontainers in /usr/local/lib/python3.7/dist-packages (from trio) (2.4.0)\n",
            "Requirement already satisfied, skipping upgrade: attrs>=19.2.0 in /usr/local/lib/python3.7/dist-packages (from trio) (21.2.0)\n",
            "Collecting sniffio\n",
            "  Downloading https://files.pythonhosted.org/packages/52/b0/7b2e028b63d092804b6794595871f936aafa5e9322dcaaad50ebf67445b3/sniffio-1.2.0-py3-none-any.whl\n",
            "Requirement already satisfied, skipping upgrade: idna in /usr/local/lib/python3.7/dist-packages (from trio) (2.10)\n",
            "Collecting outcome\n",
            "  Downloading https://files.pythonhosted.org/packages/0d/bb/f60ce97b304b1979d1fef96b6517af47b9bb026770b1f198b6e921b5edf5/outcome-1.1.0-py2.py3-none-any.whl\n",
            "Installing collected packages: sniffio, outcome, trio\n",
            "Successfully installed outcome-1.1.0 sniffio-1.2.0 trio-0.19.0\n"
          ],
          "name": "stdout"
        }
      ]
    },
    {
      "cell_type": "markdown",
      "metadata": {
        "id": "QXAv8WwRcte0"
      },
      "source": [
        "## Tutorial\n",
        "\n",
        "Welcome to the Trio tutorial! Trio is a modern Python library for writing asynchronous applications – that is, programs that want to do multiple things at the same time with parallelized I/O, like a web spider that fetches lots of pages in parallel, a web server juggling lots of simultaneous downloads… that sort of thing. Here we’ll try to give a gentle introduction to asynchronous programming with Trio.\n"
      ]
    },
    {
      "cell_type": "code",
      "metadata": {
        "id": "3Sa4Wjz5ctMV"
      },
      "source": [
        "# A regular function\n",
        "def regular_double(x):\n",
        "    return 2 * x\n",
        "\n",
        "# An async function\n",
        "async def async_double(x):\n",
        "    return 2 * x"
      ],
      "execution_count": 2,
      "outputs": []
    },
    {
      "cell_type": "markdown",
      "metadata": {
        "id": "mSGkRSP9c4Vd"
      },
      "source": [
        "\n",
        "“Async” is short for “asynchronous”; we’ll sometimes refer to regular functions like regular_double as “synchronous functions”, to distinguish them from async functions."
      ]
    },
    {
      "cell_type": "markdown",
      "metadata": {
        "id": "shiCxEu5dEJr"
      },
      "source": [
        "You can only use the **await** keyword in **async functions**."
      ]
    },
    {
      "cell_type": "code",
      "metadata": {
        "id": "1CLmmeQCdMnc"
      },
      "source": [
        "async def print_double(x):\n",
        "    print(await async_double(x))   # <-- OK!"
      ],
      "execution_count": 3,
      "outputs": []
    },
    {
      "cell_type": "markdown",
      "metadata": {
        "id": "D3mXVDBhdeAb"
      },
      "source": [
        "Just calling an async function won't do what you expect."
      ]
    },
    {
      "cell_type": "code",
      "metadata": {
        "colab": {
          "base_uri": "https://localhost:8080/"
        },
        "id": "vfLM1mitdOK6",
        "outputId": "fd291b6e-6853-4965-e99f-370213607068"
      },
      "source": [
        "print_double(9)"
      ],
      "execution_count": 4,
      "outputs": [
        {
          "output_type": "execute_result",
          "data": {
            "text/plain": [
              "<coroutine object print_double at 0x7f3ba2e1d8c0>"
            ]
          },
          "metadata": {
            "tags": []
          },
          "execution_count": 4
        }
      ]
    },
    {
      "cell_type": "markdown",
      "metadata": {
        "id": "lt1Ftkacdho5"
      },
      "source": [
        "You need to write a **runner** function to call the **async** function."
      ]
    },
    {
      "cell_type": "code",
      "metadata": {
        "colab": {
          "base_uri": "https://localhost:8080/"
        },
        "id": "8OxaYyc0dSGa",
        "outputId": "aa738511-fd49-4e47-acd8-88c6842e2a34"
      },
      "source": [
        "import trio\n",
        "\n",
        "async def async_double(x):\n",
        "    return 2 * x\n",
        "\n",
        "trio.run(async_double, 3)  # returns 6"
      ],
      "execution_count": 5,
      "outputs": [
        {
          "output_type": "stream",
          "text": [
            "/usr/local/lib/python3.7/dist-packages/trio/_core/_multierror.py:464: RuntimeWarning: IPython detected, but you already have a custom exception handler installed. I'll skip installing Trio's custom handler, but this means MultiErrors will not show full tracebacks.\n",
            "  category=RuntimeWarning,\n"
          ],
          "name": "stderr"
        },
        {
          "output_type": "execute_result",
          "data": {
            "text/plain": [
              "6"
            ]
          },
          "metadata": {
            "tags": []
          },
          "execution_count": 5
        }
      ]
    },
    {
      "cell_type": "markdown",
      "metadata": {
        "id": "XYFFvz6Ed5cS"
      },
      "source": [
        "**Async** functions are useful for **IO** which is often waiting for something to return, or for a person to do something. So, trio has a lot of builtin functions for doing IO."
      ]
    },
    {
      "cell_type": "code",
      "metadata": {
        "id": "QpCy5ZZSdtsS"
      },
      "source": [
        "import trio\n",
        "\n",
        "async def double_sleep(x):\n",
        "    await trio.sleep(2 * x)\n",
        "\n",
        "trio.run(double_sleep, 3)  # does nothing for 6 seconds then returns"
      ],
      "execution_count": 6,
      "outputs": []
    },
    {
      "cell_type": "markdown",
      "metadata": {
        "id": "uGXl5x1BearV"
      },
      "source": [
        "This suggests an architecture pattern called an **async sandwich**\n",
        "```\n",
        "trio.run -> double_sleep -> trio.sleep\n",
        "```\n",
        "\n",
        "You wrap async functions in a runner and a handler, both of which are async. So the runner calls the async function which then calls the final async function.\n",
        "\n",
        "Then, both the runner and the wrapper can wait on the world, and the function being called doesn't have to change.\n",
        "\n",
        "```\n",
        "trio.run -> [async function] -> ... -> [async function] -> trio.whatever\n",
        "```\n",
        "Is the general pattern."
      ]
    },
    {
      "cell_type": "markdown",
      "metadata": {
        "id": "Jf0nZHT9e0QN"
      },
      "source": [
        "If you forget to **await** you'll get a warning not an error, and the code will complete.\n",
        "\n",
        "```\n",
        " RuntimeWarning: coroutine 'sleep' was never awaited\n",
        "```"
      ]
    },
    {
      "cell_type": "code",
      "metadata": {
        "id": "pJe25pefeaTX",
        "colab": {
          "base_uri": "https://localhost:8080/"
        },
        "outputId": "96de7f53-7e3d-4be4-ba93-fdfb83e9170c"
      },
      "source": [
        "import time\n",
        "import trio\n",
        "\n",
        "async def broken_double_sleep(x):\n",
        "    print(\"*yawn* Going to sleep\")\n",
        "    start_time = time.perf_counter()\n",
        "\n",
        "    # Whoops, we forgot the 'await'!\n",
        "    trio.sleep(2 * x)\n",
        "\n",
        "    sleep_time = time.perf_counter() - start_time\n",
        "    print(f\"Woke up after {sleep_time:.2f} seconds, feeling well rested!\")\n",
        "\n",
        "trio.run(broken_double_sleep, 3)"
      ],
      "execution_count": 7,
      "outputs": [
        {
          "output_type": "stream",
          "text": [
            "*yawn* Going to sleep\n",
            "Woke up after 0.00 seconds, feeling well rested!\n"
          ],
          "name": "stdout"
        },
        {
          "output_type": "stream",
          "text": [
            "/usr/local/lib/python3.7/dist-packages/ipykernel_launcher.py:9: RuntimeWarning: coroutine 'sleep' was never awaited\n",
            "  if __name__ == '__main__':\n",
            "RuntimeWarning: Enable tracemalloc to get the object allocation traceback\n"
          ],
          "name": "stderr"
        }
      ]
    },
    {
      "cell_type": "markdown",
      "metadata": {
        "id": "3l66JaVz9F2s"
      },
      "source": [
        "\"Forgetting an await like this is an incredibly common mistake. You will mess this up. Everyone does. And Python will not help you as much as you’d hope 😞. The key thing to remember is: if you see the magic words **RuntimeWarning: coroutine '...' was never awaited**, then this always means that you made the mistake of leaving out an await somewhere, and you should ignore all the other error messages you see and go fix that first, because there’s a good chance the other stuff is just collateral damage. I’m not even sure what all that other junk in the PyPy output is. Fortunately I don’t need to know, I just need to fix my function!\""
      ]
    },
    {
      "cell_type": "markdown",
      "metadata": {
        "id": "IFup-PwR9qUK"
      },
      "source": [
        "## Running multiple async functions at the same time"
      ]
    },
    {
      "cell_type": "code",
      "metadata": {
        "colab": {
          "base_uri": "https://localhost:8080/"
        },
        "id": "3lLjoyZ09FtP",
        "outputId": "95ed8136-3f7d-4a20-91fa-22720bf99fdd"
      },
      "source": [
        "# tasks-intro.py\n",
        "\n",
        "import trio\n",
        "\n",
        "async def child1():\n",
        "    print(\"  child1: started! sleeping now...\")\n",
        "    await trio.sleep(3)\n",
        "    print(\"  child1: exiting!\")\n",
        "\n",
        "async def child2():\n",
        "    print(\"  child2: started! sleeping now...\")\n",
        "    await trio.sleep(1)\n",
        "    print(\"  child2: exiting!\")\n",
        "\n",
        "async def parent():\n",
        "    print(\"parent: started!\")\n",
        "    async with trio.open_nursery() as nursery:\n",
        "        print(\"parent: spawning child1...\")\n",
        "        nursery.start_soon(child1)\n",
        "\n",
        "        print(\"parent: spawning child2...\")\n",
        "        nursery.start_soon(child2)\n",
        "\n",
        "        print(\"parent: waiting for children to finish...\")\n",
        "        # -- we exit the nursery block here --\n",
        "    print(\"parent: all done!\")\n",
        "\n",
        "trio.run(parent)"
      ],
      "execution_count": 8,
      "outputs": [
        {
          "output_type": "stream",
          "text": [
            "parent: started!\n",
            "parent: spawning child1...\n",
            "parent: spawning child2...\n",
            "parent: waiting for children to finish...\n",
            "  child2: started! sleeping now...\n",
            "  child1: started! sleeping now...\n",
            "  child2: exiting!\n",
            "  child1: exiting!\n",
            "parent: all done!\n"
          ],
          "name": "stdout"
        }
      ]
    },
    {
      "cell_type": "markdown",
      "metadata": {
        "id": "WnaSWA4V8-xp"
      },
      "source": [
        "This example shows the use of **Async with** to group **Async** functions under a parent, so they are are handled within the same **with** or similarly a **for** statment. This pattern is called a **nursery** in Trio. The async funtions have similar lifetimes under the parent."
      ]
    },
    {
      "cell_type": "markdown",
      "metadata": {
        "id": "RemYU3Rk-BY1"
      },
      "source": [
        "\"There are only 4 lines of code that really do anything here. On line 17, we use trio.open_nursery() to get a “nursery” object, and then inside the async with block we call nursery.start_soon twice, on lines 19 and 22. There are actually two ways to call an async function: the first one is the one we already saw, using await async_fn(); the new one is nursery.start_soon(async_fn): it asks Trio to start running this async function, but then returns immediately without waiting for the function to finish. So after our two calls to nursery.start_soon, child1 and child2 are now running in the background. And then at line 25, the commented line, we hit the end of the async with block, and the nursery’s __aexit__ function runs. What this does is force parent to stop here and wait for all the children in the nursery to exit. This is why you have to use async with to get a nursery: it gives us a way to make sure that the child calls can’t run away and get lost. One reason this is important is that if there’s a bug or other problem in one of the children, and it raises an exception, then it lets us propagate that exception into the parent; in many other frameworks, exceptions like this are just discarded. **Trio never discards exceptions.**\""
      ]
    },
    {
      "cell_type": "markdown",
      "metadata": {
        "id": "iFQUfKrb-u7P"
      },
      "source": [
        "## Tracing "
      ]
    },
    {
      "cell_type": "code",
      "metadata": {
        "id": "g2XLP-qo-uSB"
      },
      "source": [
        "class Tracer(trio.abc.Instrument):\n",
        "    def before_run(self):\n",
        "        print(\"!!! run started\")\n",
        "\n",
        "    def _print_with_task(self, msg, task):\n",
        "        # repr(task) is perhaps more useful than task.name in general,\n",
        "        # but in context of a tutorial the extra noise is unhelpful.\n",
        "        print(f\"{msg}: {task.name}\")\n",
        "\n",
        "    def task_spawned(self, task):\n",
        "        self._print_with_task(\"### new task spawned\", task)\n",
        "\n",
        "    def task_scheduled(self, task):\n",
        "        self._print_with_task(\"### task scheduled\", task)\n",
        "\n",
        "    def before_task_step(self, task):\n",
        "        self._print_with_task(\">>> about to run one step of task\", task)\n",
        "\n",
        "    def after_task_step(self, task):\n",
        "        self._print_with_task(\"<<< task step finished\", task)\n",
        "\n",
        "    def task_exited(self, task):\n",
        "        self._print_with_task(\"### task exited\", task)\n",
        "\n",
        "    def before_io_wait(self, timeout):\n",
        "        if timeout:\n",
        "            print(f\"### waiting for I/O for up to {timeout} seconds\")\n",
        "        else:\n",
        "            print(\"### doing a quick check for I/O\")\n",
        "        self._sleep_time = trio.current_time()\n",
        "\n",
        "    def after_io_wait(self, timeout):\n",
        "        duration = trio.current_time() - self._sleep_time\n",
        "        print(f\"### finished I/O check (took {duration} seconds)\")\n",
        "\n",
        "    def after_run(self):\n",
        "        print(\"!!! run finished\")"
      ],
      "execution_count": 10,
      "outputs": []
    },
    {
      "cell_type": "markdown",
      "metadata": {
        "id": "6LGic08I_S6S"
      },
      "source": [
        "## And then use the tracer"
      ]
    },
    {
      "cell_type": "code",
      "metadata": {
        "colab": {
          "base_uri": "https://localhost:8080/"
        },
        "id": "bkSUgRZO_QKr",
        "outputId": "af45f207-1c80-4d03-e551-d94daad4c811"
      },
      "source": [
        "trio.run(parent, instruments=[Tracer()])"
      ],
      "execution_count": 11,
      "outputs": [
        {
          "output_type": "stream",
          "text": [
            "!!! run started\n",
            "### new task spawned: <init>\n",
            "### task scheduled: <init>\n",
            "### doing a quick check for I/O\n",
            "### finished I/O check (took 0.002314217999810353 seconds)\n",
            ">>> about to run one step of task: <init>\n",
            "### new task spawned: __main__.parent\n",
            "### task scheduled: __main__.parent\n",
            "### new task spawned: <TrioToken.run_sync_soon task>\n",
            "### task scheduled: <TrioToken.run_sync_soon task>\n",
            "<<< task step finished: <init>\n",
            "### doing a quick check for I/O\n",
            "### finished I/O check (took 1.730700023472309e-05 seconds)\n",
            ">>> about to run one step of task: <TrioToken.run_sync_soon task>\n",
            "<<< task step finished: <TrioToken.run_sync_soon task>\n",
            ">>> about to run one step of task: __main__.parent\n",
            "parent: started!\n",
            "parent: spawning child1...\n",
            "### new task spawned: __main__.child1\n",
            "### task scheduled: __main__.child1\n",
            "parent: spawning child2...\n",
            "### new task spawned: __main__.child2\n",
            "### task scheduled: __main__.child2\n",
            "parent: waiting for children to finish...\n",
            "<<< task step finished: __main__.parent\n",
            "### doing a quick check for I/O\n",
            "### finished I/O check (took 1.4805002138018608e-05 seconds)\n",
            ">>> about to run one step of task: __main__.child2\n",
            "  child2: started! sleeping now...\n",
            "<<< task step finished: __main__.child2\n",
            ">>> about to run one step of task: __main__.child1\n",
            "  child1: started! sleeping now...\n",
            "<<< task step finished: __main__.child1\n",
            "### waiting for I/O for up to 0.999782494000101 seconds\n",
            "### finished I/O check (took 1.0011576219985727 seconds)\n",
            "### task scheduled: __main__.child2\n",
            ">>> about to run one step of task: __main__.child2\n",
            "  child2: exiting!\n",
            "### task exited: __main__.child2\n",
            "<<< task step finished: __main__.child2\n",
            "### waiting for I/O for up to 1.9982208860019455 seconds\n",
            "### finished I/O check (took 2.001154668003437 seconds)\n",
            "### task scheduled: __main__.child1\n",
            ">>> about to run one step of task: __main__.child1\n",
            "  child1: exiting!\n",
            "### task scheduled: __main__.parent\n",
            "### task exited: __main__.child1\n",
            "<<< task step finished: __main__.child1\n",
            "### doing a quick check for I/O\n",
            "### finished I/O check (took 1.688599877525121e-05 seconds)\n",
            ">>> about to run one step of task: __main__.parent\n",
            "parent: all done!\n",
            "### task scheduled: <init>\n",
            "### task exited: __main__.parent\n",
            "<<< task step finished: __main__.parent\n",
            "### doing a quick check for I/O\n",
            "### finished I/O check (took 6.636997568421066e-06 seconds)\n",
            ">>> about to run one step of task: <init>\n",
            "### task scheduled: <init>\n",
            "<<< task step finished: <init>\n",
            "### doing a quick check for I/O\n",
            "### finished I/O check (took 6.122005288489163e-06 seconds)\n",
            ">>> about to run one step of task: <init>\n",
            "### task scheduled: <init>\n",
            "<<< task step finished: <init>\n",
            "### doing a quick check for I/O\n",
            "### finished I/O check (took 6.042995664756745e-06 seconds)\n",
            ">>> about to run one step of task: <init>\n",
            "<<< task step finished: <init>\n",
            "### waiting for I/O for up to 86400 seconds\n",
            "### task scheduled: <TrioToken.run_sync_soon task>\n",
            "### finished I/O check (took 4.300699947634712e-05 seconds)\n",
            ">>> about to run one step of task: <TrioToken.run_sync_soon task>\n",
            "### task scheduled: <init>\n",
            "<<< task step finished: <TrioToken.run_sync_soon task>\n",
            "### doing a quick check for I/O\n",
            "### finished I/O check (took 6.8110020947642624e-06 seconds)\n",
            ">>> about to run one step of task: <init>\n",
            "### task scheduled: <TrioToken.run_sync_soon task>\n",
            "<<< task step finished: <init>\n",
            "### doing a quick check for I/O\n",
            "### finished I/O check (took 6.4739942899905145e-06 seconds)\n",
            ">>> about to run one step of task: <TrioToken.run_sync_soon task>\n",
            "### task scheduled: <init>\n",
            "### task exited: <TrioToken.run_sync_soon task>\n",
            "<<< task step finished: <TrioToken.run_sync_soon task>\n",
            "### doing a quick check for I/O\n",
            "### finished I/O check (took 7.3590053943917155e-06 seconds)\n",
            ">>> about to run one step of task: <init>\n",
            "### task exited: <init>\n",
            "<<< task step finished: <init>\n",
            "!!! run finished\n"
          ],
          "name": "stdout"
        }
      ]
    },
    {
      "cell_type": "markdown",
      "metadata": {
        "id": "5B5c9lgY_o0z"
      },
      "source": [
        "## Trio and builtin Async\n",
        "\n",
        "They don't play well together.\n"
      ]
    },
    {
      "cell_type": "markdown",
      "metadata": {
        "id": "B4wafX6P_3q8"
      },
      "source": [
        "## Scale\n",
        "\"Excellent scalability: Trio can run 10,000+ tasks simultaneously without breaking a sweat, so long as their total CPU demands don’t exceed what a single core can provide. (This is common in, for example, network servers that have lots of clients connected, but only a few active at any given time.)\""
      ]
    },
    {
      "cell_type": "markdown",
      "metadata": {
        "id": "WPM2Z9ax__1r"
      },
      "source": [
        "## Cancellation\n",
        "https://trio.readthedocs.io/en/stable/reference-core.html#cancellation\n",
        "\n",
        "Timeouts\n",
        "```\n",
        "with trio.move_on_after(30):\n",
        "    result = await do_http_get(\"https://...\")\n",
        "    print(\"result is\", result)\n",
        "print(\"with block finished\")\n",
        "```\n",
        "\n",
        "move_on_after creates **Cancel Scope**"
      ]
    },
    {
      "cell_type": "markdown",
      "metadata": {
        "id": "EBLrywpoA8n5"
      },
      "source": [
        "### Handling Cancellations\n",
        "\"Pretty much any code you write using Trio needs to have some strategy to handle Cancelled exceptions – even if you didn’t set a timeout, then your caller might (and probably will).\n",
        "\n",
        "You can catch Cancelled, but you shouldn’t! Or more precisely, if you do catch it, then you should do some cleanup and then re-raise it or otherwise let it continue propagating (unless you encounter an error, in which case it’s OK to let that propagate instead). To help remind you of this fact, Cancelled inherits from BaseException, like KeyboardInterrupt and SystemExit do, so that it won’t be caught by catch-all except Exception: blocks.\"\n",
        "\n",
        "\"If you have a task that has to do a lot of work without any I/O, then you can use await sleep(0) to insert an explicit cancel+schedule point.\"\n",
        "\n",
        "Let the caller handle timeouts.\n",
        "\n",
        "When a scope is Cancelled, it will continue to raise Cancellation exceptions till handled."
      ]
    },
    {
      "cell_type": "markdown",
      "metadata": {
        "id": "ZtqejUVgCEex"
      },
      "source": [
        "Documentation patch needed\n",
        "\n",
        "\"When things go wrong: timeouts, cancellation and exceptions in concurrent tasks\n",
        "TODO: give an example using fail_after()\n",
        "\n",
        "TODO: explain Cancelled\n",
        "\n",
        "TODO: explain how cancellation is also used when one child raises an exception\n",
        "\n",
        "TODO: show an example MultiError traceback and walk through its structure\n",
        "\n",
        "TODO: maybe a brief discussion of KeyboardInterrupt handling?\""
      ]
    },
    {
      "cell_type": "markdown",
      "metadata": {
        "id": "GUh7bG47CME5"
      },
      "source": [
        "### fail_after\n",
        "Creates a cancel scope with the given timeout, and raises an error if it is actually cancelled."
      ]
    },
    {
      "cell_type": "markdown",
      "metadata": {
        "id": "x3hPUU0JJ7-l"
      },
      "source": [
        "Contributing\n",
        "\n",
        "https://github.com/python-trio\n",
        "\n",
        "This software is made available under the terms of *either* of the\n",
        "licenses found in LICENSE.APACHE2 or LICENSE.MIT. Contributions to\n",
        "Trio are made under the terms of *both* these licenses."
      ]
    }
  ]
}